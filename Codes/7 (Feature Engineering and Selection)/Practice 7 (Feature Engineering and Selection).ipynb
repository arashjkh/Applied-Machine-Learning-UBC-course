{
 "cells": [
  {
   "cell_type": "markdown",
   "id": "bfb747ec",
   "metadata": {},
   "source": [
    "# Practice 7 (Feature Engineering and Selection)\n",
    "\n",
    "## 1) Feature Selection: Spectrometer\n",
    "\n",
    "Given the spectrometer dataset ‘spectrometer_dataset_2.csv’, we would like to train a classifier which uses only 2 features from among the given features (no PCA). The reason is that this allows use to make the equipment simpler/cheaper by using less sensors (sensors for 2 frequencies only instead of 8)\n",
    "- Select the features from a training set.\n",
    "- Test the trained classifier and compare it with the one which uses all 8 features."
   ]
  },
  {
   "cell_type": "code",
   "execution_count": 1,
   "id": "d3325665",
   "metadata": {},
   "outputs": [
    {
     "name": "stdout",
     "output_type": "stream",
     "text": [
      "[ True False False False False False  True False]\n",
      "Before selection\n",
      "1.0\n",
      "After selection\n",
      "0.9696969696969697\n",
      "(array([0, 6], dtype=int64),)\n"
     ]
    },
    {
     "data": {
      "image/png": "[encoded data removed]",
      "text/plain": [
       "<Figure size 432x288 with 1 Axes>"
      ]
     },
     "metadata": {
      "needs_background": "light"
     },
     "output_type": "display_data"
    }
   ],
   "source": [
    "import numpy as np\n",
    "import pandas as pd\n",
    "from sklearn.linear_model import LogisticRegression\n",
    "from sklearn.model_selection import train_test_split\n",
    "from sklearn.metrics import confusion_matrix, accuracy_score\n",
    "from sklearn.feature_selection import SequentialFeatureSelector\n",
    "import matplotlib.pyplot as plt\n",
    "\n",
    "# load spectrometer data\n",
    "df = pd.read_csv('spectrometer_dataset_2.csv')\n",
    "## pandas.DataFrame.to_numpy: converts the DataFrame to a NumPy array.\n",
    "data = df.to_numpy() ##print(data.shape) >>> (200, 9)\n",
    "X = data[:,0:8] # columns for features\n",
    "y = data[:,8] # column for labels (0/1)\n",
    "X_train, X_test, y_train, y_test = train_test_split(X, y, test_size=0.33)\n",
    "\n",
    "# learn the model\n",
    "model = LogisticRegression()\n",
    "sfs = SequentialFeatureSelector(model, n_features_to_select=2)\n",
    "sfs.fit(X_train, y_train)\n",
    "print(sfs.get_support())\n",
    "X_train_selected = sfs.transform(X_train)\n",
    "X_test_selected = sfs.transform(X_test)\n",
    "\n",
    "print('Before selection')\n",
    "model.fit(X_train, y_train)\n",
    "y_pred = model.predict(X_test)\n",
    "print(accuracy_score(y_test, y_pred))\n",
    "\n",
    "print('After selection')\n",
    "model.fit(X_train_selected, y_train)\n",
    "y_pred = model.predict(X_test_selected)\n",
    "print(accuracy_score(y_test, y_pred))\n",
    "\n",
    "# scatter plot, for visualization purposes only\n",
    "features = np.where(sfs.get_support()==1) \n",
    "print(features)\n",
    "plt.scatter(X[y==0, features[0][0]], X[y==0, features[0][1]], c='r')\n",
    "plt.scatter(X[y==1, features[0][0]], X[y==1, features[0][1]], c='b')\n",
    "plt.xlabel('first selected feature')\n",
    "plt.ylabel('second selected feature')\n",
    "plt.grid(1)"
   ]
  },
  {
   "cell_type": "markdown",
   "id": "9b140122",
   "metadata": {},
   "source": [
    "## 2) UAV Landing-Assist\n",
    "\n",
    "We would like to design a landing assist system for a UAV equipped with only a camera<br>\n",
    "The system should determine if the ground below the UAV is flat/rough based on an image<br>\n",
    "- Use the dataset ‘Landing’ (contains training and testing folders)\n",
    "- Engineer features from the images to enable training a LogisticRegression model that can perform this task\n",
    "<img align=\"left\" src=\"Lecture 7 Feature Engineering and Selection - Practice.jpg\">"
   ]
  },
  {
   "cell_type": "code",
   "execution_count": 8,
   "id": "2faab8a6",
   "metadata": {},
   "outputs": [
    {
     "name": "stdout",
     "output_type": "stream",
     "text": [
      "\n",
      "X_train.shape = (41, 4800), y_train.shape = (41,)\n",
      "\n",
      "edge_features_train.shape = (41, 2), y_train.shape = (41,)\n"
     ]
    },
    {
     "data": {
      "image/png": "[encoded data removed]",
      "text/plain": [
       "<Figure size 432x288 with 1 Axes>"
      ]
     },
     "metadata": {
      "needs_background": "light"
     },
     "output_type": "display_data"
    },
    {
     "name": "stdout",
     "output_type": "stream",
     "text": [
      "\n",
      "X_test.shape = (40, 4800), y_test.shape = (41,)\n",
      "\n",
      "edge_features_test.shape = (40, 2), y_test.shape = (40,)\n"
     ]
    },
    {
     "data": {
      "image/png": "[encoded data removed]",
      "text/plain": [
       "<Figure size 432x288 with 1 Axes>"
      ]
     },
     "metadata": {
      "needs_background": "light"
     },
     "output_type": "display_data"
    },
    {
     "name": "stdout",
     "output_type": "stream",
     "text": [
      "\n",
      "First five test data = \n",
      "[[3.63942975 4.09762413 0.         0.        ]\n",
      " [4.19810714 4.04145327 0.         0.        ]\n",
      " [4.76357773 4.00031032 0.         0.        ]\n",
      " [5.02942036 4.34210876 0.         0.        ]\n",
      " [3.80077545 4.01990696 0.         0.        ]]\n",
      "\n",
      "Confusion matrix = \n",
      "[[18  0]\n",
      " [ 4 18]]\n",
      "\n",
      "Accuracy score = 0.9\n"
     ]
    }
   ],
   "source": [
    "import os # to listdir\n",
    "import numpy as np\n",
    "import matplotlib.pyplot as plt\n",
    "from sklearn.linear_model import LogisticRegression\n",
    "from sklearn.metrics import confusion_matrix , accuracy_score\n",
    "from PIL import Image, ImageFilter\n",
    "\n",
    "folder_training_flat = 'Landing/training/Flat/'\n",
    "folder_training_rough = 'Landing/training/Rough/'\n",
    "folder_testing_flat = 'Landing/testing/Flat/'\n",
    "folder_testing_rough = 'Landing/testing/Rough/'\n",
    "classes = [0, 1]\n",
    "\n",
    "\n",
    "def get_data(folder, im_width, im_length, label, n_samples):\n",
    "    file_names = os.listdir(folder)\n",
    "    if n_samples == -1:\n",
    "        n_samples = len(file_names)\n",
    "    X = np.empty((n_samples, im_width*im_length))\n",
    "    y = np.empty((n_samples, 1))\n",
    "    \n",
    "    for i in range(n_samples):\n",
    "        path = folder + file_names[i]\n",
    "        im = Image.open(path).convert('L')\n",
    "        im = im.resize((im_length, im_width))\n",
    "        im_array = np.asarray(im)\n",
    "        X[i, :] = im_array.reshape(1, -1)\n",
    "        y[i, 0] = classes[label]\n",
    "    \n",
    "    ### print(X.shape, y.shape) \n",
    "    return X, y\n",
    "\n",
    "im_width = int(480/8)\n",
    "im_length = int(640/8)\n",
    "\n",
    "X_train_flat, y_train_flat = get_data(folder_training_flat, im_width, im_length, 0, -1) # -> (18, 4800) (18, 1)\n",
    "X_train_rough, y_train_rough = get_data(folder_training_rough, im_width, im_length, 1, -1) # -> (23, 4800) (23, 1)\n",
    "\n",
    "X_test_flat, y_test_flat = get_data(folder_testing_flat, im_width, im_length, 0, -1) # -> (18, 4800) (18, 1)\n",
    "X_test_rough, y_test_rough = get_data(folder_testing_rough, im_width, im_length, 1, -1) # -> (22, 4800) (22, 1)\n",
    "\n",
    "X_train = np.vstack((X_train_flat, X_train_rough)) # -> (41, 4800)\n",
    "y_train = np.vstack((y_train_flat, y_train_rough)).reshape(-1,) # -> (41,)\n",
    "P_train = len(X_train[:,0]) # -> 41\n",
    "\n",
    "X_test = np.vstack((X_test_flat, X_test_rough)) # -> (40, 4800)\n",
    "y_test = np.vstack((y_test_flat, y_test_rough)).reshape(-1,) # -> (40,)\n",
    "P_test = len(X_test[:,0]) # -> 40\n",
    "\n",
    "def process_image(image_array, edge_thresh, peak_thresh):\n",
    "    # changes the values of the image pixels to be between 0 and max_value (255)\n",
    "    image_array = (image_array - np.min(image_array)) * 255 / (np.max(image_array) - np.min(image_array))\n",
    "\n",
    "    # reads image in grayscale and reshapes it\n",
    "    im = Image.fromarray(image_array.reshape(im_width, im_length)).convert('L')\n",
    "    edges_image = im.filter(ImageFilter.FIND_EDGES)\n",
    "    \n",
    "    edges_array = np.asarray(edges_image)\n",
    "    edges_array_scaled = edges_array.copy()[1:im_width-1, 1:im_length-1]\n",
    "    edges_array_scaled[edges_array_scaled < edge_thresh,] = 0\n",
    "\n",
    "    # engineer features\n",
    "    edges_v = np.sum(edges_array_scaled, axis=0).astype(float)\n",
    "    edges_h = np.sum(edges_array_scaled, axis=1).astype(float)\n",
    "\n",
    "    # high pass filter\n",
    "    M = 5\n",
    "    for i in range(len(edges_v)-M):\n",
    "        edges_v[i] = edges_v[i] - np.mean(edges_v[i:i+M])\n",
    "    edges_v[-M:] = 0 # assigning 0 to the last M elements\n",
    "    \n",
    "    for i in range(len(edges_h)-M):\n",
    "        edges_h[i] = edges_h[i] - np.mean(edges_h[i:i+M])\n",
    "    edges_h[-M:] = 0 # assigning 0 to the last M elements\n",
    "    \n",
    "    peak_v = np.max(np.abs(edges_v))\n",
    "    peak_h = np.max(np.abs(edges_h))\n",
    "    noise_v = edges_v.copy()[np.abs(edges_v) < peak_thresh*peak_v]\n",
    "    noise_h = edges_h.copy()[np.abs(edges_h) < peak_thresh*peak_h]\n",
    "    sd_v = np.sqrt(np.var(noise_v))\n",
    "    sd_h = np.sqrt(np.var(noise_h))\n",
    "    \n",
    "    X = np.array([peak_v/sd_v, peak_h/sd_h]).reshape(1,-1)\n",
    "    \n",
    "    return X\n",
    "\n",
    "\n",
    "ET = 64\n",
    "PT = 0.5\n",
    "\n",
    "edge_features_train = np.empty((P_train,2))\n",
    "\n",
    "for i in range(P_train):\n",
    "    edge_features_train[i,:] = process_image(X_train[i,:], ET, PT)\n",
    "print(f'\\nX_train.shape = {X_train.shape}, y_train.shape = {y_train.shape}')\n",
    "print(f'\\nedge_features_train.shape = {edge_features_train.shape}, y_train.shape = {y_train.shape}')\n",
    "\n",
    "plt.scatter(edge_features_train[y_train==0,0], edge_features_train[y_train==0,1], c='r')\n",
    "plt.scatter(edge_features_train[y_train==1,0], edge_features_train[y_train==1,1], c='b')\n",
    "plt.xlabel('peak_v/sd_v')\n",
    "plt.ylabel('peak_h/sd_h')\n",
    "plt.show()\n",
    "\n",
    "edge_features_test = np.empty((P_test,2))\n",
    "\n",
    "for i in range(P_test):\n",
    "    edge_features_test[i,:] = process_image(X_test[i,:], ET, PT)\n",
    "print(f'\\nX_test.shape = {X_test.shape}, y_test.shape = {y_train.shape}')\n",
    "print(f'\\nedge_features_test.shape = {edge_features_test.shape}, y_test.shape = {y_test.shape}')\n",
    "    \n",
    "plt.scatter(edge_features_test[y_test==0,0], edge_features_test[y_test==0,1], c='r')\n",
    "plt.scatter(edge_features_test[y_test==1,0], edge_features_test[y_test==1,1], c='b')\n",
    "plt.xlabel('peak_v/sd_v')\n",
    "plt.ylabel('peak_h/sd_h')\n",
    "plt.show()\n",
    "\n",
    "# train LogisticRegression model\n",
    "model = LogisticRegression()\n",
    "model.fit(edge_features_train, y_train.ravel())\n",
    "\n",
    "y_pred = model.predict(edge_features_test)\n",
    "\n",
    "print(f'\\nFirst five test data = \\n{np.hstack((edge_features_test, y_test.reshape(-1,1), y_pred.reshape(-1,1)))[:5]}')\n",
    "print(f'\\nConfusion matrix = \\n{confusion_matrix(y_test, y_pred)}')\n",
    "print(f'\\nAccuracy score = {accuracy_score(y_test, y_pred)}')"
   ]
  },
  {
   "cell_type": "code",
   "execution_count": null,
   "id": "3711253d",
   "metadata": {},
   "outputs": [],
   "source": []
  }
 ],
 "metadata": {
  "kernelspec": {
   "display_name": "Python 3",
   "language": "python",
   "name": "python3"
  },
  "language_info": {
   "codemirror_mode": {
    "name": "ipython",
    "version": 3
   },
   "file_extension": ".py",
   "mimetype": "text/x-python",
   "name": "python",
   "nbconvert_exporter": "python",
   "pygments_lexer": "ipython3",
   "version": "3.8.8"
  }
 },
 "nbformat": 4,
 "nbformat_minor": 5
}
