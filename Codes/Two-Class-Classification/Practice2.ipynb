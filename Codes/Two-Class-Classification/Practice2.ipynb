{
 "cells": [
  {
   "cell_type": "markdown",
   "id": "5aaf580a",
   "metadata": {},
   "source": [
    "# Practice 2 (Two-class Classification)"
   ]
  },
  {
   "cell_type": "markdown",
   "id": "d9eb5876",
   "metadata": {},
   "source": [
    "## 1) Cat-Dog (noise size)\n",
    "Train a logistic regression model with input 𝑥 representing nose size, and output 𝑦 representing class (cat/dog), <br>\n",
    "– The data can be found in the file cat-dog.csv <br>\n",
    "– Use random train/test split with 33% of the samples for testing <br>\n",
    "Modify your program to use two inputs, nose size and ear shape."
   ]
  },
  {
   "cell_type": "code",
   "execution_count": 100,
   "id": "83169840",
   "metadata": {},
   "outputs": [
    {
     "name": "stdout",
     "output_type": "stream",
     "text": [
      "       nose       ear  class\n",
      "0  0.859593  0.298499      1\n",
      "1  0.027629  0.338085      0\n",
      "2  0.899156  0.859480      1\n",
      "3  0.899936  0.340478      1\n",
      "4  0.524106  0.138120      0\n",
      "\n",
      "First Five Data = \n",
      "[[0.33337269 0.         0.        ]\n",
      " [0.84630364 1.         1.        ]\n",
      " [0.20367644 0.         0.        ]\n",
      " [0.70610759 1.         1.        ]\n",
      " [0.9912032  1.         1.        ]]\n",
      "\n",
      "Confusion Matrix = \n",
      "[[ 8  4]\n",
      " [ 1 14]]\n",
      "\n",
      "Accuracy Score = 0.8148148148148148\n"
     ]
    },
    {
     "data": {
      "image/png": "[encoded data removed]",
      "text/plain": [
       "<Figure size 432x288 with 1 Axes>"
      ]
     },
     "metadata": {
      "needs_background": "light"
     },
     "output_type": "display_data"
    }
   ],
   "source": [
    "# with one feature\n",
    "import matplotlib.pyplot as plt\n",
    "import numpy as np\n",
    "from sklearn.linear_model import LogisticRegression\n",
    "from sklearn.model_selection import train_test_split\n",
    "import pandas as pd\n",
    "from sklearn.metrics import confusion_matrix, accuracy_score\n",
    "\n",
    "df = pd.read_csv('cat-dog.csv')\n",
    "print(df.head())\n",
    "x = df['nose']\n",
    "y = df['class']\n",
    "### print(f'\\nx and y are sequence of numbers {x.shape}, {y.shape}') >>> (79,), (79,)\n",
    "x = np.array(x).reshape(-1,1)\n",
    "y = np.array(y).reshape(-1,1)\n",
    "### print(f'x and y are column vectors {x.shape}, {y.shape}') >>> (79, 1), (79, 1)\n",
    "\n",
    "plt.scatter(x,y)\n",
    "plt.grid(1)\n",
    "plt.xlabel('nose size')\n",
    "plt.ylabel('class')\n",
    "\n",
    "X_train, X_test, y_train, y_test = train_test_split(x, y, test_size = 0.33, random_state=3)\n",
    "\n",
    "# train model\n",
    "model = LogisticRegression()\n",
    "model.fit(X_train, y_train.ravel())\n",
    "\n",
    "xx = np.linspace(0, 1, 100).reshape(-1,1)\n",
    "plt.plot(xx, model.predict(xx), 'r')\n",
    "\n",
    "y_pred = model.predict(X_test).reshape(-1,1)\n",
    "## np.hstack: stack arrays in sequence horizontally (column wise).\n",
    "print(f'\\nFirst Five Data = \\n{np.hstack((X_test, y_test, y_pred))[0:5]}')\n",
    "print(f'\\nConfusion Matrix = \\n{confusion_matrix(y_test, y_pred)}')\n",
    "print(f'\\nAccuracy Score = {accuracy_score(y_test, y_pred)}')"
   ]
  },
  {
   "cell_type": "markdown",
   "id": "bb27fe23",
   "metadata": {},
   "source": [
    "## 2) Cat-Dog (noise and ear sizes)"
   ]
  },
  {
   "cell_type": "code",
   "execution_count": 84,
   "id": "16d1a1ee",
   "metadata": {},
   "outputs": [
    {
     "name": "stdout",
     "output_type": "stream",
     "text": [
      "\n",
      "First Five Data = \n",
      "[[0.33337269 0.00891506 0.         0.        ]\n",
      " [0.84630364 0.87986644 1.         1.        ]\n",
      " [0.20367644 0.23316769 0.         0.        ]\n",
      " [0.70610759 0.38431362 1.         1.        ]\n",
      " [0.9912032  0.58518164 1.         1.        ]]\n",
      "\n",
      "Confusion Matrix = \n",
      "[[12  0]\n",
      " [ 0 15]]\n",
      "\n",
      "Accuracy Score = 1.0\n"
     ]
    },
    {
     "data": {
      "image/png": "[encoded data removed]",
      "text/plain": [
       "<Figure size 432x288 with 1 Axes>"
      ]
     },
     "metadata": {
      "needs_background": "light"
     },
     "output_type": "display_data"
    }
   ],
   "source": [
    "# with two features\n",
    "x1 = df['nose']\n",
    "x2 = df['ear']\n",
    "y = df['class']\n",
    "### print(f'\\nx1, x2, and y are sequence of numbers {x1.shape}, {x2.shape}, {y.shape}') >>> (79,), (79,), (79,)\n",
    "X = np.array([x1,x2]).T\n",
    "y = np.array(y)\n",
    "### print(f'y = {y}')\n",
    "### print(f'X and y are column vectors {X.shape}, {y.shape}') >>> (79, 2), (79,)\n",
    "\n",
    "plt.scatter(X[y==0,0],X[y==0,1],c='r')\n",
    "plt.scatter(X[y==1,0],X[y==1,1],c='b')\n",
    "plt.grid(1)\n",
    "plt.xlabel('nose size')\n",
    "plt.ylabel('ear shape')\n",
    "\n",
    "X_train, X_test, y_train, y_test = train_test_split(X, y, test_size=0.33, random_state=3)\n",
    "model = LogisticRegression()\n",
    "model.fit(X_train, y_train)\n",
    "\n",
    "# color plot based on predicted class\n",
    "xp1, xp2 = np.meshgrid(np.linspace(0, 1, 100), np.linspace(0, 1, 100))\n",
    "# vectorize mesh grid\n",
    "xp1_v = xp1.reshape(-1,1)\n",
    "xp2_v = xp2.reshape(-1,1)\n",
    "\n",
    "# convert vectorized meshgrid to dataset\n",
    "Xp_data = np.hstack((xp1_v, xp2_v)) ## or np.append(xp1_v, xp2_v, axis=1)\n",
    "z = model.predict(Xp_data).reshape(xp1.shape) ### print(z.shape) >>> (100, 100)\n",
    "plt.contourf(xp1, xp2, z, alpha=0.25)\n",
    "\n",
    "y_pred = model.predict(X_test)\n",
    "print(f'\\nFirst Five Data = \\n{np.hstack((X_test, y_test.reshape(-1,1), y_pred.reshape(-1,1)))[:5]}')\n",
    "print(f'\\nConfusion Matrix = \\n{confusion_matrix(y_test, y_pred)}')\n",
    "print(f'\\nAccuracy Score = {accuracy_score(y_test, y_pred)}')"
   ]
  },
  {
   "cell_type": "markdown",
   "id": "9d073dd8",
   "metadata": {},
   "source": [
    "## 3) 0 and 1 digits-classifier\n",
    "•  The MNIST dataset is a dataset of images (28*28 pixels) of handwritten digits (0-9)<br>\n",
    "•  Train a classifier to classify if an image is a 0 or a 1<br>\n",
    "– Use images (all or some) in the folder training for training<br>\n",
    "– Use images (all or some) in the folder testing for testing<br>\n",
    "<img align=\"left\" src=\"MNIST.JPG\">"
   ]
  },
  {
   "cell_type": "code",
   "execution_count": 113,
   "id": "bc5171bb",
   "metadata": {},
   "outputs": [
    {
     "name": "stdout",
     "output_type": "stream",
     "text": [
      "x_0.shape = (1000, 784), y_0.shape = (1000, 1)\n",
      "x_1.shape = (1000, 784), y_1.shape = (1000, 1)\n",
      "\n"
     ]
    },
    {
     "data": {
      "image/png": "[encoded data removed]",
      "text/plain": [
       "<Figure size 432x288 with 1 Axes>"
      ]
     },
     "metadata": {
      "needs_background": "light"
     },
     "output_type": "display_data"
    },
    {
     "data": {
      "image/png": "[encoded data removed]",
      "text/plain": [
       "<Figure size 432x288 with 1 Axes>"
      ]
     },
     "metadata": {
      "needs_background": "light"
     },
     "output_type": "display_data"
    },
    {
     "name": "stdout",
     "output_type": "stream",
     "text": [
      "X_train.shape: (2000, 784), y_train.shape: (2000, 1)\n",
      "X_test.shape: (400, 784), y_test.shape: (400, 1)\n",
      "y_pred.shape = (400,)\n",
      "\n",
      "Confusion Matrix = \n",
      "[[200   0]\n",
      " [  0 200]]\n",
      "\n",
      "Accuracy Score = 1.0\n",
      "Model Coeficient Shape = (1, 784)\n"
     ]
    },
    {
     "data": {
      "image/png": "[encoded data removed]",
      "text/plain": [
       "<Figure size 432x288 with 1 Axes>"
      ]
     },
     "metadata": {
      "needs_background": "light"
     },
     "output_type": "display_data"
    }
   ],
   "source": [
    "import os # to listdir\n",
    "import numpy as np\n",
    "from numpy import asarray\n",
    "import matplotlib.pyplot as plt\n",
    "from sklearn.linear_model import LogisticRegression\n",
    "from PIL import Image # python image lib\n",
    "from sklearn.metrics import confusion_matrix, accuracy_score\n",
    "\n",
    "folder_training_0 = 'MNIST/training/0/' # 5923 ### print(folder_training_0) >>> MNIST/training/0/\n",
    "folder_training_1 = 'MNIST/training/1/' # 6742\n",
    "folder_testing_0 = 'MNIST/testing/0/' # 980\n",
    "folder_testing_1 = 'MNIST/testing/1/' # 1135\n",
    "classes = [0,1]\n",
    "im_width = 28\n",
    "\n",
    "def get_data(folder, im_width, label, n_samples):\n",
    "    file_names = os.listdir(folder)\n",
    "    ## np.empty: returns a new array of given shape and type, without initializing entries.\n",
    "    x = np.empty((n_samples,im_width**2))\n",
    "    y = np.empty((n_samples,1))\n",
    "    for i in range(n_samples):\n",
    "        path = folder + file_names[i]\n",
    "        im = Image.open(path).convert('L')\n",
    "        im_array = asarray(im)\n",
    "        x[i,:] = im_array.reshape(1,-1)\n",
    "        y[i,0] = classes[label]\n",
    "    return x, y\n",
    "\n",
    "# training data\n",
    "x_0, y_0 = get_data(folder_training_0, 28, 0, 1000)\n",
    "x_1, y_1 = get_data(folder_training_1, 28, 1, 1000)\n",
    "### print(f'x_0 = \\n{x_0[:5,]}\\n\\ny_0 = \\n{y_0[:5,]}\\n')\n",
    "### print(f'x_1 = \\n{x_1[:5,]}\\n\\ny_1 = \\n{y_1[:5,]}\\n')\n",
    "print(f'x_0.shape = {x_0.shape}, y_0.shape = {y_0.shape}')\n",
    "print(f'x_1.shape = {x_1.shape}, y_1.shape = {y_1.shape}\\n')\n",
    "\n",
    "# plot to check if images loaded successfully\n",
    "plt.imshow(x_0[0,:].reshape(im_width,im_width))\n",
    "plt.show()\n",
    "plt.imshow(x_1[0,:].reshape(im_width,im_width))\n",
    "plt.show()\n",
    "\n",
    "# combine data samples for training\n",
    "## np.vstack: stack arrays in sequence vertically (row wise).\n",
    "X_train = np.vstack((x_0, x_1))\n",
    "y_train = np.vstack((y_0, y_1))\n",
    "print(f'X_train.shape: {X_train.shape}, y_train.shape: {y_train.shape}')\n",
    "\n",
    "# train LogisticRegression model\n",
    "model = LogisticRegression()\n",
    "model.fit(X_train, y_train.ravel())\n",
    "\n",
    "# testing data\n",
    "x_0_test, y_0_test = get_data(folder_testing_0, 28, 0, 200)\n",
    "x_1_test, y_1_test = get_data(folder_testing_1, 28, 1, 200)\n",
    "# combine data samples for testing\n",
    "X_test = np.vstack((x_0_test, x_1_test))\n",
    "y_test = np.vstack((y_0_test, y_1_test))\n",
    "print(f'X_test.shape: {X_test.shape}, y_test.shape: {y_test.shape}')\n",
    "\n",
    "y_pred = model.predict(X_test)\n",
    "### print(f'y_pred = {y_pred[195:205]}') >>> [0. 0. 0. 0. 0. 1. 1. 1. 1. 1.]\n",
    "print(f'y_pred.shape = {y_pred.shape}')\n",
    "print(f'\\nConfusion Matrix = \\n{confusion_matrix(y_test, y_pred)}')\n",
    "print(f'\\nAccuracy Score = {accuracy_score(y_test, y_pred)}')\n",
    "print(f'Model Coeficient Shape = {model.coef_.shape}')\n",
    "plt.imshow(model.coef_.reshape(im_width, im_width))\n",
    "plt.show()"
   ]
  }
 ],
 "metadata": {
  "kernelspec": {
   "display_name": "Python 3",
   "language": "python",
   "name": "python3"
  },
  "language_info": {
   "codemirror_mode": {
    "name": "ipython",
    "version": 3
   },
   "file_extension": ".py",
   "mimetype": "text/x-python",
   "name": "python",
   "nbconvert_exporter": "python",
   "pygments_lexer": "ipython3",
   "version": "3.8.8"
  }
 },
 "nbformat": 4,
 "nbformat_minor": 5
}
