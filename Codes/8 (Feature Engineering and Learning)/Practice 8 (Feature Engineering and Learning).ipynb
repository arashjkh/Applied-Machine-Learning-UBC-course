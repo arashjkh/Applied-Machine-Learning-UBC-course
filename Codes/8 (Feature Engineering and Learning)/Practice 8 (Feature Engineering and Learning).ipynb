{
 "cells": [
  {
   "cell_type": "markdown",
   "id": "d5cf87ae",
   "metadata": {},
   "source": [
    "# Practice 8 (Feature Engineering and Learning)"
   ]
  },
  {
   "cell_type": "markdown",
   "id": "65072e6c",
   "metadata": {},
   "source": [
    "## Nonlinear Feature Engineering\n",
    "\n",
    "We focus in this practice on polynomial features since they are universal approximators<br>\n",
    "We can apply feature engineering by defining our nonlinear feature in code\n",
    "- e.g. t = x<sup>2</sup> to define a feature transform t(x) = x<sup>2</sup>\n",
    "\n",
    "We can also use a package to generate polynomial features:<br>\n",
    "- from sklearn.preprocessing import PolynomialFeatures\n",
    "- d = 2\n",
    "- polynomial_features = PolynomialFeatures(d)\n",
    "- t = polynomial_features.fit_transform(x)"
   ]
  },
  {
   "cell_type": "markdown",
   "id": "39dd7bfb",
   "metadata": {},
   "source": [
    "## 1) Distance vs. Time in Free-Fall\n",
    "Engineer quadratic features using the first method, and evaluate your regressor using the R2 score<br>\n",
    "- Use the file 'gravity_data.csv'\n",
    "- Use the second method to generate polynomial features of degree 2, and evaluate your regressor using the R2 score\n",
    "- Use random train/test split with 1/3 of the dataset as the testset"
   ]
  },
  {
   "cell_type": "code",
   "execution_count": 1,
   "id": "af4c2030",
   "metadata": {},
   "outputs": [],
   "source": [
    "# Method 1: distance (d) vs. time (t) in free fall"
   ]
  },
  {
   "cell_type": "code",
   "execution_count": 2,
   "id": "54594625",
   "metadata": {},
   "outputs": [
    {
     "name": "stdout",
     "output_type": "stream",
     "text": [
      "R2 score = 0.9139632703233019\n"
     ]
    },
    {
     "data": {
      "image/png": "[encoded data removed]",
      "text/plain": [
       "<Figure size 432x288 with 1 Axes>"
      ]
     },
     "metadata": {
      "needs_background": "light"
     },
     "output_type": "display_data"
    }
   ],
   "source": [
    "import matplotlib.pyplot as plt\n",
    "import numpy as np\n",
    "from sklearn.linear_model import LinearRegression\n",
    "from sklearn.model_selection import train_test_split\n",
    "import pandas as pd\n",
    "\n",
    "# load dataset\n",
    "df = pd.read_csv('gravity_data.csv')\n",
    "x = df['t']\n",
    "y = df['d']\n",
    "x = np.array(x).reshape(-1,1)\n",
    "y = np.array(y).reshape(-1,1)\n",
    "\n",
    "# plot scatter plot (for visualization only)\n",
    "plt.scatter(x,y)\n",
    "plt.grid(1)\n",
    "plt.xlabel('t')\n",
    "plt.ylabel('d')\n",
    "\n",
    "# split into train and test sets\n",
    "x_train, x_test, y_train, y_test = train_test_split(x, y, test_size=0.33, random_state=3)\n",
    "\n",
    "# engineer quadratic feature and train model\n",
    "t_train = x_train**2\n",
    "\n",
    "# train model and plot it\n",
    "model = LinearRegression()\n",
    "model.fit(t_train,y_train)\n",
    "x_plot = np.linspace(0,1.5,100).reshape(-1,1)\n",
    "t_plot = x_plot**2\n",
    "plt.plot(x_plot, model.predict(t_plot), 'r')\n",
    "\n",
    "# evaluate performance\n",
    "t_test = x_test**2\n",
    "print(f'R2 score = {model.score(t_test,y_test)}')\n"
   ]
  },
  {
   "cell_type": "code",
   "execution_count": 3,
   "id": "98373971",
   "metadata": {},
   "outputs": [],
   "source": [
    "# Method 2: distance (d) vs. time (t) in free fall"
   ]
  },
  {
   "cell_type": "code",
   "execution_count": 4,
   "id": "67ab2392",
   "metadata": {},
   "outputs": [
    {
     "name": "stdout",
     "output_type": "stream",
     "text": [
      "R2 score = 0.9203091886948913\n"
     ]
    },
    {
     "data": {
      "image/png": "[encoded data removed]",
      "text/plain": [
       "<Figure size 432x288 with 1 Axes>"
      ]
     },
     "metadata": {
      "needs_background": "light"
     },
     "output_type": "display_data"
    }
   ],
   "source": [
    "import matplotlib.pyplot as plt\n",
    "import numpy as np\n",
    "from sklearn.linear_model import LinearRegression\n",
    "from sklearn.model_selection import train_test_split\n",
    "import pandas as pd\n",
    "from sklearn.preprocessing import PolynomialFeatures\n",
    "\n",
    "# load dataset\n",
    "df = pd.read_csv('gravity_data.csv')\n",
    "x = df['t']\n",
    "y = df['d']\n",
    "x = np.array(x).reshape(-1,1)\n",
    "y = np.array(y).reshape(-1,1)\n",
    "\n",
    "# plot scatter plot (for visualization only)\n",
    "plt.scatter(x,y)\n",
    "plt.grid(1)\n",
    "plt.xlabel('t')\n",
    "plt.ylabel('d')\n",
    "\n",
    "# generate polynomial features of degree d\n",
    "d = 2\n",
    "polynomial_features = PolynomialFeatures(d)\n",
    "t = polynomial_features.fit_transform(x)\n",
    "\n",
    "# split into train and test sets\n",
    "t_train, t_test, y_train, y_test = train_test_split(t, y, test_size = 0.33, random_state=3)\n",
    "\n",
    "# train model and plot it\n",
    "model = LinearRegression()\n",
    "model.fit(t_train,y_train)\n",
    "x_plot = np.linspace(0,1.5,100).reshape(-1,1)\n",
    "t_plot = polynomial_features.fit_transform(x_plot) \n",
    "plt.plot(x_plot, model.predict(t_plot), 'r')\n",
    "\n",
    "# evaluate performance\n",
    "print(f'R2 score = {model.score(t_test,y_test)}')\n"
   ]
  },
  {
   "cell_type": "markdown",
   "id": "a52a6798",
   "metadata": {},
   "source": [
    "## 2) IRIS Classification using Nonlinear Features\n",
    "\n",
    "We can also use PolynomialFeatures in a classification problem to generate a nonlinear classifier<br>\n",
    "Apply this to classify IRIS flowers using their sepal length and width<br>\n",
    "- Start from the code in Lecture 5 – Practice\n",
    "- Generate nonlinear features using PolynomialFeatures\n",
    "- Draw the classification boundary\n",
    "\n",
    "<img align=\"left\" src=\"Iris3ClassClassifier.JPG\">"
   ]
  },
  {
   "cell_type": "code",
   "execution_count": 5,
   "id": "2adb0319",
   "metadata": {},
   "outputs": [
    {
     "name": "stdout",
     "output_type": "stream",
     "text": [
      "   sample  sepal length  sepal width  petal length  petal width  class\n",
      "0       0           5.1          3.5           1.4          0.2      0\n",
      "1       1           4.9          3.0           1.4          0.2      0\n",
      "2       2           4.7          3.2           1.3          0.2      0\n",
      "3       3           4.6          3.1           1.5          0.2      0\n",
      "4       4           5.0          3.6           1.4          0.2      0\n",
      "\n",
      "Confusion Matrix = \n",
      "[[17  1  0]\n",
      " [ 0 10  7]\n",
      " [ 0  5 10]]\n",
      "\n",
      "Accuracy Score = 0.74\n"
     ]
    },
    {
     "data": {
      "image/png": "[encoded data removed]",
      "text/plain": [
       "<Figure size 432x288 with 1 Axes>"
      ]
     },
     "metadata": {
      "needs_background": "light"
     },
     "output_type": "display_data"
    }
   ],
   "source": [
    "import matplotlib.pyplot as plt\n",
    "import numpy as np\n",
    "from sklearn.linear_model import LogisticRegression\n",
    "from sklearn.model_selection import train_test_split\n",
    "import pandas as pd\n",
    "from sklearn.metrics import confusion_matrix, accuracy_score\n",
    "\n",
    "df = pd.read_csv('iris.csv')\n",
    "print(df.head())\n",
    "\n",
    "x1 = df['sepal length']\n",
    "x2 = df['sepal width']\n",
    "y = df['class']\n",
    "X = np.array([x1,x2]).T\n",
    "y = np.array(y)\n",
    "##print(f'X.shape: {X.shape}, ny.shape: {y.shape}') >>> (150, 2), (150,)\n",
    "\n",
    "# scatter plot\n",
    "plt.scatter(X[y==0,0], X[y==0,1], c='r')\n",
    "plt.scatter(X[y==1,0], X[y==1,1], c='b')\n",
    "plt.scatter(X[y==2,0], X[y==2,1], c='orange')\n",
    "plt.grid(1)\n",
    "plt.legend(['setosa', 'versicolor', 'virginica'])\n",
    "plt.xlabel('sepal length')\n",
    "plt.ylabel('sepal width')\n",
    "#or# plt.xlim(3,8) # range for sepal length\n",
    "#or# plt.ylim(2,4) # range for sepal width\n",
    "plt.xlim(x1.min(), x1.max()) # range for sepal length\n",
    "plt.ylim(x2.min(), x2.max()) # range for sepal width\n",
    "\n",
    "# plot boundaries\n",
    "#or# xp1, xp2 = np.meshgrid(np.linspace(3,8,100), np.linspace(2,4,100))\n",
    "xp1, xp2 = np.meshgrid(np.linspace(x1.min(), x1.max(), 100), np.linspace(x2.min(), x2.max(), 100))\n",
    "#A# np.linspace creates a sequence of numbers i.e. 1D-shaped array.\n",
    "##print(xp1); print(xp2)\n",
    "##print(xp1.shape, xp2.shape) >>> (100, 100) (100, 100)\n",
    "\n",
    "# generate polynomial features of degree d\n",
    "d = 2\n",
    "polynomial_features = PolynomialFeatures(d)\n",
    "##print(X.shape) >>> (150, 2)\n",
    "T = polynomial_features.fit_transform(X)\n",
    "##print(T.shape) >>> (150, 6)\n",
    "t_train, t_test, y_train, y_test = train_test_split(T, y, test_size = 0.33, random_state=3)\n",
    "##print(t_train.shape) >>> (100, 6)\n",
    "\n",
    "# train model\n",
    "model = LogisticRegression(max_iter=10000)\n",
    "model.fit(t_train,y_train)\n",
    "\n",
    "# vectorize mesh grid\n",
    "xp1_v = xp1.reshape(-1,1) ##print(xp1_v.shape) >>> (10000, 1)\n",
    "xp2_v = xp2.reshape(-1,1) ##print(xp2_v.shape) >>> (10000, 1)\n",
    "##print(xp1_v)\n",
    "\n",
    "# convert vectorized meshgrid to dataset\n",
    "Xp_data = np.append(xp1_v, xp2_v, axis=1) ##print(Xp_data.shape) >>> (10000, 2)\n",
    "#or# np.hstack(xp1_v, xp2_v) \n",
    "#print(Xp_data)\n",
    "Tp_data = polynomial_features.fit_transform(Xp_data)\n",
    "z = model.predict(Tp_data)\n",
    "z = z.reshape(xp1.shape) ##print(z.shape) >>> (100, 100)\n",
    "plt.contourf(xp1, xp2, z, alpha=0.25)\n",
    "\n",
    "# evaluate performance\n",
    "y_pred = model.predict(t_test)\n",
    "print(f'\\nConfusion Matrix = \\n{confusion_matrix(y_test, y_pred)}')\n",
    "print(f'\\nAccuracy Score = {accuracy_score(y_test, y_pred)}')\n"
   ]
  },
  {
   "cell_type": "markdown",
   "id": "8867c89f",
   "metadata": {},
   "source": [
    "## 3) Cross-Validation\n",
    "\n",
    "Validation requires splitting the dataset into a training set, a validation set, and a test set.<br>\n",
    "It is common to use cross validation, where:<br>\n",
    "- the dataset is split into a testing set and a training set\n",
    "- the training set is split into k subsets\n",
    "- - k-1 subsets are used for training\n",
    "- - 1 subset is used for validation\n",
    "- All k combinations are used for validation, and the average score is considered as the validation score\n",
    "\n",
    "This is called k-fold cross-validation\n",
    "\n",
    "<img align=\"left\" src=\"Validation.PNG\">"
   ]
  },
  {
   "cell_type": "code",
   "execution_count": 1,
   "id": "32b9f252",
   "metadata": {},
   "outputs": [
    {
     "data": {
      "text/plain": [
       "Text(0, 0.5, 'Validation error')"
      ]
     },
     "execution_count": 1,
     "metadata": {},
     "output_type": "execute_result"
    },
    {
     "data": {
      "image/png": "[encoded data removed]",
      "text/plain": [
       "<Figure size 432x288 with 1 Axes>"
      ]
     },
     "metadata": {
      "needs_background": "light"
     },
     "output_type": "display_data"
    }
   ],
   "source": [
    "import matplotlib.pyplot as plt\n",
    "import numpy as np\n",
    "from sklearn.linear_model import LogisticRegression\n",
    "from sklearn.model_selection import cross_val_score\n",
    "import pandas as pd\n",
    "from sklearn.preprocessing import PolynomialFeatures\n",
    "from sklearn.metrics import accuracy_score\n",
    "\n",
    "df = pd.read_csv('quad.csv')\n",
    "data = df.to_numpy() ##print(data.shape) >>> (300, 3)\n",
    "##print(data)\n",
    "x = data[:,0:2] ##print(x.shape) >>> (300,)\n",
    "y = data[:,2]\n",
    "x_train = x[0:240,:]\n",
    "x_test = x[240:,:]\n",
    "y_train = y[0:240]\n",
    "y_test = y[240:]\n",
    "\n",
    "model = LogisticRegression(max_iter=2000)\n",
    "D = 15\n",
    "validation_error = np.empty(D)\n",
    "##print(validation_error)\n",
    "\n",
    "for i in range(D):\n",
    "    d = i+1\n",
    "    # generate polynomial features of degree d\n",
    "    polynomial_features = PolynomialFeatures(d)\n",
    "    t_train = polynomial_features.fit_transform(x_train)\n",
    "    scores = cross_val_score(model, t_train, y_train, cv=8)\n",
    "    validation_error[i] = 1 - np.mean(scores)\n",
    "    \n",
    "plt.plot([i+1 for i in range(D)], validation_error)\n",
    "plt.grid(1)\n",
    "plt.xlabel('Polynomial degree (d)')\n",
    "plt.ylabel('Validation error')"
   ]
  }
 ],
 "metadata": {
  "kernelspec": {
   "display_name": "Python 3",
   "language": "python",
   "name": "python3"
  },
  "language_info": {
   "codemirror_mode": {
    "name": "ipython",
    "version": 3
   },
   "file_extension": ".py",
   "mimetype": "text/x-python",
   "name": "python",
   "nbconvert_exporter": "python",
   "pygments_lexer": "ipython3",
   "version": "3.8.8"
  }
 },
 "nbformat": 4,
 "nbformat_minor": 5
}
