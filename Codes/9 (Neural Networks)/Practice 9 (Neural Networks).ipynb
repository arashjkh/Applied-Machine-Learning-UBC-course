{
 "cells": [
  {
   "cell_type": "markdown",
   "id": "dc7299d1",
   "metadata": {},
   "source": [
    "# Practice 9 (Neural Networks)"
   ]
  },
  {
   "cell_type": "markdown",
   "id": "cadabe55",
   "metadata": {},
   "source": [
    "## ANN with Scikit learn\n",
    "\n",
    "Import:\n",
    "- from sklearn.neural_network import MLPClassifier\n",
    "\n",
    "To define an instance:\n",
    "- ANN = MLPClassifier(hidden_layer_sizes = (5,3), max_iter = 1000)\n",
    "- hidden_layer_sizes: number of neurons in each layer (length indicates no. of layers)\n",
    "- Explore other parameters on: https://scikit-learn.org/stable/modules/generated/sklearn.neural_network.MLPClassifier.html\n",
    "\n",
    "To train:\n",
    "- ANN.fit(x_train,y_train)\n",
    "\n",
    "To predict:\n",
    "- y_pred = ANN.predict(x_test)\n",
    "\n",
    "Note: Use MLPRegressor for regression instead of MLPClassifier"
   ]
  },
  {
   "cell_type": "markdown",
   "id": "d8990abf",
   "metadata": {},
   "source": [
    "## MNIST Digits Classifier\n",
    "\n",
    "Train an ANN and test it on samples in the test set\n",
    "- Training set: Images of digits: 0, 1, …, 9 (all 10 classes)\n",
    "- Scale images down to 8x8 pixels\n",
    "- Copy code from Lecture 5 practice to start with\n",
    "\n",
    "Test the performance of an ANN with:\n",
    "- 1 layer, 10 neurons\n",
    "- 2 layers, 7 neurons each\n",
    "- Calculate no. of parameters in each case\n",
    "- Note: Training leads to a local minimum, you may need to repeat the training multiple times to get good performance\n",
    "<img align=\"left\" src=\"DigitsClassifier.JPG\">"
   ]
  },
  {
   "cell_type": "code",
   "execution_count": 6,
   "id": "c0877c3c",
   "metadata": {},
   "outputs": [
    {
     "name": "stdout",
     "output_type": "stream",
     "text": [
      "X_train.shape = (10000, 64), y_train.shape = (10000, 1)\n",
      "X_test.shape = (8000, 64), y_test.shape = (8000, 1)\n",
      "Accuracy Score = 0.942125\n",
      "Confusion Matrix = \n",
      "[[783   1   4   0   2   3   3   1   2   1]\n",
      " [  0 790   1   0   2   4   0   1   1   1]\n",
      " [  5   1 735  15   6   4   3  12  15   4]\n",
      " [  1   0  18 726   3  21   1  17  10   3]\n",
      " [  1   3   2   1 768   0   4   1   0  20]\n",
      " [  6   1   3   8   5 763   1   1   6   6]\n",
      " [  9   2   0   0  16   7 763   1   2   0]\n",
      " [  2   0   3   5   7   1   0 761   0  21]\n",
      " [  5   4  11  13   8  13   5   1 720  20]\n",
      " [  5   1   1   4  27   2   1  23   8 728]]\n"
     ]
    },
    {
     "data": {
      "image/png": "[encoded data removed]",
      "text/plain": [
       "<Figure size 432x288 with 1 Axes>"
      ]
     },
     "metadata": {
      "needs_background": "light"
     },
     "output_type": "display_data"
    }
   ],
   "source": [
    "import os # to listdir\n",
    "import numpy as np\n",
    "from numpy import asarray\n",
    "import matplotlib.pyplot as plt\n",
    "from sklearn.linear_model import LogisticRegression\n",
    "from sklearn.metrics import confusion_matrix, accuracy_score\n",
    "from PIL import Image # python image lib\n",
    "from sklearn.neural_network import MLPClassifier\n",
    "\n",
    "folder_training = ['MNIST/training/' + str(i) + '/' for i in range(10)] # creating empty list\n",
    "folder_testing = ['MNIST/training/' + str(i) + '/' for i in range(10)] # creating empty list\n",
    "classes = [i for i in range(10)] # empty list\n",
    "\n",
    "def get_data(folder, im_width, label, n_samples):\n",
    "    file_names = os.listdir(folder)\n",
    "    ## np.empty: returns a new array of given shape and type, without initializing entries.\n",
    "    x = np.empty((n_samples, im_width**2))\n",
    "    y = np.empty((n_samples, 1))\n",
    "    for i in range(n_samples):\n",
    "        path = folder + file_names[i] # generate file path\n",
    "        im = Image.open(path).convert('L') # open image and convert to grey ('L')\n",
    "        im = im.resize((im_width, im_width)) # resize as needed\n",
    "        im_array = asarray(im) # convert image to 2D array\n",
    "        x[i,:] = im_array.reshape(1,-1) # convert 2D array into one raw vecotr (one sample)\n",
    "        y[i,0] = classes[label] # generate label\n",
    "    return x, y\n",
    "\n",
    "# training data\n",
    "im_width = 8\n",
    "P_per_class = 1000;\n",
    "X_train = np.empty((P_per_class*10, im_width**2))\n",
    "y_train = np.empty((P_per_class*10, 1))\n",
    "\n",
    "for i in range(10):\n",
    "    x_i, y_i = get_data(folder_training[i], im_width, i, P_per_class) # call function, get sample\n",
    "    X_train[i*P_per_class:(i+1)*P_per_class, :] = x_i # store in X_train\n",
    "    y_train[i*P_per_class:(i+1)*P_per_class, :] = y_i # store in y_train\n",
    "    \n",
    "print(f'X_train.shape = {X_train.shape}, y_train.shape = {y_train.shape}')\n",
    "\n",
    "P_per_class = 800;\n",
    "X_test = np.empty((P_per_class*10, im_width**2))\n",
    "y_test = np.empty((P_per_class*10, 1))\n",
    "\n",
    "for i in range(10):\n",
    "    x_i, y_i = get_data(folder_testing[i], im_width, i, P_per_class) # call function, get sample\n",
    "    X_test[i*P_per_class:(i+1)*P_per_class, :] = x_i # store in X_test\n",
    "    y_test[i*P_per_class:(i+1)*P_per_class, :] = y_i # store in y_test\n",
    "\n",
    "print(f'X_test.shape = {X_test.shape}, y_test.shape = {y_test.shape}')\n",
    "\n",
    "# train\n",
    "ANN = MLPClassifier(hidden_layer_sizes = (15), max_iter = 1000) # define an instance with one layer with 10 neuron\n",
    "ANN.fit(X_train, y_train.ravel()) \n",
    "\n",
    "y_pred = ANN.predict(X_test) # predict on test set and evaluate accuracy\n",
    "\n",
    "print(f'Accuracy Score = {accuracy_score(y_test, y_pred)}')\n",
    "print(f'Confusion Matrix = \\n{confusion_matrix(y_test, y_pred)}')\n",
    "\n",
    "plt.plot(ANN.loss_curve_) # plots loss curve (loss vs iterations) if needed\n",
    "plt.xlabel('Iterations')\n",
    "plt.ylabel('Loss')\n",
    "plt.grid(1)"
   ]
  }
 ],
 "metadata": {
  "kernelspec": {
   "display_name": "Python 3",
   "language": "python",
   "name": "python3"
  },
  "language_info": {
   "codemirror_mode": {
    "name": "ipython",
    "version": 3
   },
   "file_extension": ".py",
   "mimetype": "text/x-python",
   "name": "python",
   "nbconvert_exporter": "python",
   "pygments_lexer": "ipython3",
   "version": "3.8.8"
  }
 },
 "nbformat": 4,
 "nbformat_minor": 5
}
